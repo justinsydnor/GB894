{
  "nbformat": 4,
  "nbformat_minor": 0,
  "metadata": {
    "colab": {
      "provenance": [],
      "authorship_tag": "ABX9TyO5gM1SvXhyKgaG7fr9BSoI",
      "include_colab_link": true
    },
    "kernelspec": {
      "name": "python3",
      "display_name": "Python 3"
    },
    "language_info": {
      "name": "python"
    }
  },
  "cells": [
    {
      "cell_type": "markdown",
      "metadata": {
        "id": "view-in-github",
        "colab_type": "text"
      },
      "source": [
        "<a href=\"https://colab.research.google.com/github/justinsydnor/GB894/blob/main/GB894_Autodata_HW3start.ipynb\" target=\"_parent\"><img src=\"https://colab.research.google.com/assets/colab-badge.svg\" alt=\"Open In Colab\"/></a>"
      ]
    },
    {
      "cell_type": "markdown",
      "source": [
        "# Analysis of autodata for GB 894 Homework 3\n",
        "Case study for General Business 894\n",
        "\n",
        "Created by Professor Justin Sydnor\n",
        "\n",
        "Last edited 5/24/2025\n",
        "\n",
        "## Overview\n",
        "This notebook gets you started with Homework 3. We load in the auto dataset from our github repo. We then get a start at fitting a logistic regression and calculating fairness and accuracy measures.\n",
        "\n",
        "The key next step is to repeat the analysis but with a different set of features."
      ],
      "metadata": {
        "id": "Io8OoNjxpjya"
      }
    },
    {
      "cell_type": "markdown",
      "source": [
        "# Loading in the data"
      ],
      "metadata": {
        "id": "AoQL963FwcIB"
      }
    },
    {
      "cell_type": "markdown",
      "source": [
        "We start by loading in packages (there are more loading here than we will really need)."
      ],
      "metadata": {
        "id": "clovwWzEZnj5"
      }
    },
    {
      "cell_type": "code",
      "source": [
        "import numpy as np\n",
        "import matplotlib.pyplot as plt\n",
        "import pandas as pd\n",
        "import statsmodels.formula.api as smf\n",
        "import statsmodels.api as sm\n",
        "import seaborn as sns\n",
        "\n",
        "import numpy as np\n",
        "import matplotlib.pyplot as plt\n",
        "import pandas as pd\n",
        "import statsmodels.formula.api as smf\n",
        "import statsmodels.api as sm\n",
        "import seaborn as sns\n",
        "\n",
        "from sklearn.model_selection import train_test_split, cross_val_score\n",
        "from sklearn.ensemble import BaggingClassifier, RandomForestClassifier, AdaBoostClassifier, GradientBoostingClassifier\n",
        "from sklearn.metrics import mean_squared_error,confusion_matrix, classification_report, roc_curve, auc, roc_auc_score\n",
        "import statsmodels.formula.api as smf\n",
        "import statsmodels.api as sm\n",
        "import seaborn as sns\n",
        "\n",
        "from sklearn.model_selection import train_test_split, cross_val_score\n",
        "from sklearn.ensemble import BaggingClassifier, RandomForestClassifier, AdaBoostClassifier, GradientBoostingClassifier\n",
        "from sklearn.metrics import mean_squared_error,confusion_matrix, classification_report, roc_curve, auc, roc_auc_score\n",
        "from sklearn.metrics import average_precision_score, precision_recall_curve\n"
      ],
      "metadata": {
        "id": "veDvPuhiMfPf"
      },
      "execution_count": 25,
      "outputs": []
    },
    {
      "cell_type": "markdown",
      "source": [
        "Next we load in the data from our github repo."
      ],
      "metadata": {
        "id": "cksWWHDPZs_4"
      }
    },
    {
      "cell_type": "code",
      "execution_count": 2,
      "metadata": {
        "colab": {
          "base_uri": "https://localhost:8080/"
        },
        "id": "fQiu2Xfv3RcW",
        "outputId": "36f4aa5b-c04b-4907-f53c-4d4a4fde0f84"
      },
      "outputs": [
        {
          "output_type": "stream",
          "name": "stdout",
          "text": [
            "   policyno    plcydate  clm_freq5  clm_amt5  clm_amt  kidsdriv  travtime  \\\n",
            "0       160  1997-11-08          2      4461        0         0        14   \n",
            "1     24836  1998-07-29          0         0        0         0        22   \n",
            "2     28046  1995-10-28          0         0        0         0        26   \n",
            "3     28960  1994-06-11          2     38690        0         0         5   \n",
            "4     40933  1993-09-20          0         0        0         0        32   \n",
            "\n",
            "      car_use  bluebook  retained  ...  cartype_van redcar revolked  male  \\\n",
            "0     Private     14230        11  ...            0      1        0     1   \n",
            "1  Commercial     14940         1  ...            0      1        0     1   \n",
            "2     Private     21970         1  ...            1      1        0     1   \n",
            "3     Private      4010         4  ...            0      0        0     0   \n",
            "4     Private     15440         7  ...            0      1        0     1   \n",
            "\n",
            "  married  singleparent  job_bluecollar  urban  homeowner probclaim  \n",
            "0       0             0               0      1          0  0.109276  \n",
            "1       0             0               1      1          1  0.307994  \n",
            "2       0             0               0      1          0  0.230881  \n",
            "3       1             0               0      1          1  0.175945  \n",
            "4       1             0               1      1          1  0.068219  \n",
            "\n",
            "[5 rows x 45 columns]\n"
          ]
        }
      ],
      "source": [
        "# Load in the auto data\n",
        "\n",
        "url = \"https://raw.githubusercontent.com/justinsydnor/GB894/refs/heads/main/autodata.csv\"\n",
        "\n",
        "df = pd.read_csv(url)\n",
        "print(df.head())\n"
      ]
    },
    {
      "cell_type": "markdown",
      "source": [
        "### Limit to variables we want to use for this assignment\n",
        "To simplify our modeling and avoid some complications with missing data elements, we will limit our data set to a core set of variables. Recall that the homework page in Canvas gives you links to variable definitions."
      ],
      "metadata": {
        "id": "dE4Dq-xuZ30Y"
      }
    },
    {
      "cell_type": "code",
      "source": [
        "# Update the data frame to keep on the variables hadclaim commercial clm_freq5 clm_amt5 kidsdriv travtime redcar bluebook retained revolked mvr_pts age homekids male married urban homeowner yearsinhome job_bluecollar probclaim\n",
        "\n",
        "df = df[['hadclaim', 'commercial', 'clm_freq5', 'clm_amt5', 'kidsdriv', 'travtime', 'redcar', 'bluebook', 'retained', 'revolked', 'mvr_pts', 'age', 'homekids', 'male', 'married', 'urban', 'homeowner', 'yearsinhome', 'job_bluecollar', 'probclaim']]\n",
        "print(df.head())"
      ],
      "metadata": {
        "colab": {
          "base_uri": "https://localhost:8080/"
        },
        "id": "WNCe20SfOldp",
        "outputId": "f9cadd13-908e-4a64-ee48-3152a87be2cb"
      },
      "execution_count": 3,
      "outputs": [
        {
          "output_type": "stream",
          "name": "stdout",
          "text": [
            "   hadclaim  commercial  clm_freq5  clm_amt5  kidsdriv  travtime  redcar  \\\n",
            "0         0           0          2      4461         0        14       1   \n",
            "1         0           1          0         0         0        22       1   \n",
            "2         0           0          0         0         0        26       1   \n",
            "3         0           0          2     38690         0         5       0   \n",
            "4         0           0          0         0         0        32       1   \n",
            "\n",
            "   bluebook  retained  revolked  mvr_pts  age  homekids  male  married  urban  \\\n",
            "0     14230        11         0        3   60         0     1        0      1   \n",
            "1     14940         1         0        0   43         0     1        0      1   \n",
            "2     21970         1         0        2   48         0     1        0      1   \n",
            "3      4010         4         0        3   35         1     0        1      1   \n",
            "4     15440         7         0        0   51         0     1        1      1   \n",
            "\n",
            "   homeowner  yearsinhome  job_bluecollar  probclaim  \n",
            "0          0           18               0   0.109276  \n",
            "1          1            1               1   0.307994  \n",
            "2          0           10               0   0.230881  \n",
            "3          1           10               0   0.175945  \n",
            "4          1            6               1   0.068219  \n"
          ]
        }
      ]
    },
    {
      "cell_type": "markdown",
      "source": [
        "We can create a quick table to look at the mean of each of these variables so we understand the data better."
      ],
      "metadata": {
        "id": "lwqKHQhFaP6E"
      }
    },
    {
      "cell_type": "code",
      "source": [
        "# create a table of the average values of the variables in the df\n",
        "\n",
        "# Calculate the mean of each numeric column\n",
        "average_values = df.mean(numeric_only=True)\n",
        "\n",
        "# Convert the Series to a DataFrame for better display as a table\n",
        "average_values_table = pd.DataFrame(average_values, columns=['Average Value'])\n",
        "\n",
        "average_values_table"
      ],
      "metadata": {
        "colab": {
          "base_uri": "https://localhost:8080/",
          "height": 677
        },
        "id": "qfQP3G3HaU5P",
        "outputId": "b7c32783-66b9-40cd-fae3-eed126111228"
      },
      "execution_count": 4,
      "outputs": [
        {
          "output_type": "execute_result",
          "data": {
            "text/plain": [
              "                Average Value\n",
              "hadclaim             0.265534\n",
              "commercial           0.370754\n",
              "clm_freq5            0.800435\n",
              "clm_amt5          4034.417046\n",
              "kidsdriv             0.167150\n",
              "travtime            33.462925\n",
              "redcar               0.288422\n",
              "bluebook         15676.792668\n",
              "retained             5.336268\n",
              "revolked             0.122618\n",
              "mvr_pts              1.714064\n",
              "age                 44.836993\n",
              "homekids             0.721002\n",
              "male                 0.461164\n",
              "married              0.601698\n",
              "urban                0.798467\n",
              "homeowner            0.662386\n",
              "yearsinhome          8.302299\n",
              "job_bluecollar       0.223488\n",
              "probclaim            0.265534"
            ],
            "text/html": [
              "\n",
              "  <div id=\"df-1acd7377-ae51-4c15-a497-b16f19e955c5\" class=\"colab-df-container\">\n",
              "    <div>\n",
              "<style scoped>\n",
              "    .dataframe tbody tr th:only-of-type {\n",
              "        vertical-align: middle;\n",
              "    }\n",
              "\n",
              "    .dataframe tbody tr th {\n",
              "        vertical-align: top;\n",
              "    }\n",
              "\n",
              "    .dataframe thead th {\n",
              "        text-align: right;\n",
              "    }\n",
              "</style>\n",
              "<table border=\"1\" class=\"dataframe\">\n",
              "  <thead>\n",
              "    <tr style=\"text-align: right;\">\n",
              "      <th></th>\n",
              "      <th>Average Value</th>\n",
              "    </tr>\n",
              "  </thead>\n",
              "  <tbody>\n",
              "    <tr>\n",
              "      <th>hadclaim</th>\n",
              "      <td>0.265534</td>\n",
              "    </tr>\n",
              "    <tr>\n",
              "      <th>commercial</th>\n",
              "      <td>0.370754</td>\n",
              "    </tr>\n",
              "    <tr>\n",
              "      <th>clm_freq5</th>\n",
              "      <td>0.800435</td>\n",
              "    </tr>\n",
              "    <tr>\n",
              "      <th>clm_amt5</th>\n",
              "      <td>4034.417046</td>\n",
              "    </tr>\n",
              "    <tr>\n",
              "      <th>kidsdriv</th>\n",
              "      <td>0.167150</td>\n",
              "    </tr>\n",
              "    <tr>\n",
              "      <th>travtime</th>\n",
              "      <td>33.462925</td>\n",
              "    </tr>\n",
              "    <tr>\n",
              "      <th>redcar</th>\n",
              "      <td>0.288422</td>\n",
              "    </tr>\n",
              "    <tr>\n",
              "      <th>bluebook</th>\n",
              "      <td>15676.792668</td>\n",
              "    </tr>\n",
              "    <tr>\n",
              "      <th>retained</th>\n",
              "      <td>5.336268</td>\n",
              "    </tr>\n",
              "    <tr>\n",
              "      <th>revolked</th>\n",
              "      <td>0.122618</td>\n",
              "    </tr>\n",
              "    <tr>\n",
              "      <th>mvr_pts</th>\n",
              "      <td>1.714064</td>\n",
              "    </tr>\n",
              "    <tr>\n",
              "      <th>age</th>\n",
              "      <td>44.836993</td>\n",
              "    </tr>\n",
              "    <tr>\n",
              "      <th>homekids</th>\n",
              "      <td>0.721002</td>\n",
              "    </tr>\n",
              "    <tr>\n",
              "      <th>male</th>\n",
              "      <td>0.461164</td>\n",
              "    </tr>\n",
              "    <tr>\n",
              "      <th>married</th>\n",
              "      <td>0.601698</td>\n",
              "    </tr>\n",
              "    <tr>\n",
              "      <th>urban</th>\n",
              "      <td>0.798467</td>\n",
              "    </tr>\n",
              "    <tr>\n",
              "      <th>homeowner</th>\n",
              "      <td>0.662386</td>\n",
              "    </tr>\n",
              "    <tr>\n",
              "      <th>yearsinhome</th>\n",
              "      <td>8.302299</td>\n",
              "    </tr>\n",
              "    <tr>\n",
              "      <th>job_bluecollar</th>\n",
              "      <td>0.223488</td>\n",
              "    </tr>\n",
              "    <tr>\n",
              "      <th>probclaim</th>\n",
              "      <td>0.265534</td>\n",
              "    </tr>\n",
              "  </tbody>\n",
              "</table>\n",
              "</div>\n",
              "    <div class=\"colab-df-buttons\">\n",
              "\n",
              "  <div class=\"colab-df-container\">\n",
              "    <button class=\"colab-df-convert\" onclick=\"convertToInteractive('df-1acd7377-ae51-4c15-a497-b16f19e955c5')\"\n",
              "            title=\"Convert this dataframe to an interactive table.\"\n",
              "            style=\"display:none;\">\n",
              "\n",
              "  <svg xmlns=\"http://www.w3.org/2000/svg\" height=\"24px\" viewBox=\"0 -960 960 960\">\n",
              "    <path d=\"M120-120v-720h720v720H120Zm60-500h600v-160H180v160Zm220 220h160v-160H400v160Zm0 220h160v-160H400v160ZM180-400h160v-160H180v160Zm440 0h160v-160H620v160ZM180-180h160v-160H180v160Zm440 0h160v-160H620v160Z\"/>\n",
              "  </svg>\n",
              "    </button>\n",
              "\n",
              "  <style>\n",
              "    .colab-df-container {\n",
              "      display:flex;\n",
              "      gap: 12px;\n",
              "    }\n",
              "\n",
              "    .colab-df-convert {\n",
              "      background-color: #E8F0FE;\n",
              "      border: none;\n",
              "      border-radius: 50%;\n",
              "      cursor: pointer;\n",
              "      display: none;\n",
              "      fill: #1967D2;\n",
              "      height: 32px;\n",
              "      padding: 0 0 0 0;\n",
              "      width: 32px;\n",
              "    }\n",
              "\n",
              "    .colab-df-convert:hover {\n",
              "      background-color: #E2EBFA;\n",
              "      box-shadow: 0px 1px 2px rgba(60, 64, 67, 0.3), 0px 1px 3px 1px rgba(60, 64, 67, 0.15);\n",
              "      fill: #174EA6;\n",
              "    }\n",
              "\n",
              "    .colab-df-buttons div {\n",
              "      margin-bottom: 4px;\n",
              "    }\n",
              "\n",
              "    [theme=dark] .colab-df-convert {\n",
              "      background-color: #3B4455;\n",
              "      fill: #D2E3FC;\n",
              "    }\n",
              "\n",
              "    [theme=dark] .colab-df-convert:hover {\n",
              "      background-color: #434B5C;\n",
              "      box-shadow: 0px 1px 3px 1px rgba(0, 0, 0, 0.15);\n",
              "      filter: drop-shadow(0px 1px 2px rgba(0, 0, 0, 0.3));\n",
              "      fill: #FFFFFF;\n",
              "    }\n",
              "  </style>\n",
              "\n",
              "    <script>\n",
              "      const buttonEl =\n",
              "        document.querySelector('#df-1acd7377-ae51-4c15-a497-b16f19e955c5 button.colab-df-convert');\n",
              "      buttonEl.style.display =\n",
              "        google.colab.kernel.accessAllowed ? 'block' : 'none';\n",
              "\n",
              "      async function convertToInteractive(key) {\n",
              "        const element = document.querySelector('#df-1acd7377-ae51-4c15-a497-b16f19e955c5');\n",
              "        const dataTable =\n",
              "          await google.colab.kernel.invokeFunction('convertToInteractive',\n",
              "                                                    [key], {});\n",
              "        if (!dataTable) return;\n",
              "\n",
              "        const docLinkHtml = 'Like what you see? Visit the ' +\n",
              "          '<a target=\"_blank\" href=https://colab.research.google.com/notebooks/data_table.ipynb>data table notebook</a>'\n",
              "          + ' to learn more about interactive tables.';\n",
              "        element.innerHTML = '';\n",
              "        dataTable['output_type'] = 'display_data';\n",
              "        await google.colab.output.renderOutput(dataTable, element);\n",
              "        const docLink = document.createElement('div');\n",
              "        docLink.innerHTML = docLinkHtml;\n",
              "        element.appendChild(docLink);\n",
              "      }\n",
              "    </script>\n",
              "  </div>\n",
              "\n",
              "\n",
              "    <div id=\"df-06492f11-ce84-4bed-8605-6512c2b86eb9\">\n",
              "      <button class=\"colab-df-quickchart\" onclick=\"quickchart('df-06492f11-ce84-4bed-8605-6512c2b86eb9')\"\n",
              "                title=\"Suggest charts\"\n",
              "                style=\"display:none;\">\n",
              "\n",
              "<svg xmlns=\"http://www.w3.org/2000/svg\" height=\"24px\"viewBox=\"0 0 24 24\"\n",
              "     width=\"24px\">\n",
              "    <g>\n",
              "        <path d=\"M19 3H5c-1.1 0-2 .9-2 2v14c0 1.1.9 2 2 2h14c1.1 0 2-.9 2-2V5c0-1.1-.9-2-2-2zM9 17H7v-7h2v7zm4 0h-2V7h2v10zm4 0h-2v-4h2v4z\"/>\n",
              "    </g>\n",
              "</svg>\n",
              "      </button>\n",
              "\n",
              "<style>\n",
              "  .colab-df-quickchart {\n",
              "      --bg-color: #E8F0FE;\n",
              "      --fill-color: #1967D2;\n",
              "      --hover-bg-color: #E2EBFA;\n",
              "      --hover-fill-color: #174EA6;\n",
              "      --disabled-fill-color: #AAA;\n",
              "      --disabled-bg-color: #DDD;\n",
              "  }\n",
              "\n",
              "  [theme=dark] .colab-df-quickchart {\n",
              "      --bg-color: #3B4455;\n",
              "      --fill-color: #D2E3FC;\n",
              "      --hover-bg-color: #434B5C;\n",
              "      --hover-fill-color: #FFFFFF;\n",
              "      --disabled-bg-color: #3B4455;\n",
              "      --disabled-fill-color: #666;\n",
              "  }\n",
              "\n",
              "  .colab-df-quickchart {\n",
              "    background-color: var(--bg-color);\n",
              "    border: none;\n",
              "    border-radius: 50%;\n",
              "    cursor: pointer;\n",
              "    display: none;\n",
              "    fill: var(--fill-color);\n",
              "    height: 32px;\n",
              "    padding: 0;\n",
              "    width: 32px;\n",
              "  }\n",
              "\n",
              "  .colab-df-quickchart:hover {\n",
              "    background-color: var(--hover-bg-color);\n",
              "    box-shadow: 0 1px 2px rgba(60, 64, 67, 0.3), 0 1px 3px 1px rgba(60, 64, 67, 0.15);\n",
              "    fill: var(--button-hover-fill-color);\n",
              "  }\n",
              "\n",
              "  .colab-df-quickchart-complete:disabled,\n",
              "  .colab-df-quickchart-complete:disabled:hover {\n",
              "    background-color: var(--disabled-bg-color);\n",
              "    fill: var(--disabled-fill-color);\n",
              "    box-shadow: none;\n",
              "  }\n",
              "\n",
              "  .colab-df-spinner {\n",
              "    border: 2px solid var(--fill-color);\n",
              "    border-color: transparent;\n",
              "    border-bottom-color: var(--fill-color);\n",
              "    animation:\n",
              "      spin 1s steps(1) infinite;\n",
              "  }\n",
              "\n",
              "  @keyframes spin {\n",
              "    0% {\n",
              "      border-color: transparent;\n",
              "      border-bottom-color: var(--fill-color);\n",
              "      border-left-color: var(--fill-color);\n",
              "    }\n",
              "    20% {\n",
              "      border-color: transparent;\n",
              "      border-left-color: var(--fill-color);\n",
              "      border-top-color: var(--fill-color);\n",
              "    }\n",
              "    30% {\n",
              "      border-color: transparent;\n",
              "      border-left-color: var(--fill-color);\n",
              "      border-top-color: var(--fill-color);\n",
              "      border-right-color: var(--fill-color);\n",
              "    }\n",
              "    40% {\n",
              "      border-color: transparent;\n",
              "      border-right-color: var(--fill-color);\n",
              "      border-top-color: var(--fill-color);\n",
              "    }\n",
              "    60% {\n",
              "      border-color: transparent;\n",
              "      border-right-color: var(--fill-color);\n",
              "    }\n",
              "    80% {\n",
              "      border-color: transparent;\n",
              "      border-right-color: var(--fill-color);\n",
              "      border-bottom-color: var(--fill-color);\n",
              "    }\n",
              "    90% {\n",
              "      border-color: transparent;\n",
              "      border-bottom-color: var(--fill-color);\n",
              "    }\n",
              "  }\n",
              "</style>\n",
              "\n",
              "      <script>\n",
              "        async function quickchart(key) {\n",
              "          const quickchartButtonEl =\n",
              "            document.querySelector('#' + key + ' button');\n",
              "          quickchartButtonEl.disabled = true;  // To prevent multiple clicks.\n",
              "          quickchartButtonEl.classList.add('colab-df-spinner');\n",
              "          try {\n",
              "            const charts = await google.colab.kernel.invokeFunction(\n",
              "                'suggestCharts', [key], {});\n",
              "          } catch (error) {\n",
              "            console.error('Error during call to suggestCharts:', error);\n",
              "          }\n",
              "          quickchartButtonEl.classList.remove('colab-df-spinner');\n",
              "          quickchartButtonEl.classList.add('colab-df-quickchart-complete');\n",
              "        }\n",
              "        (() => {\n",
              "          let quickchartButtonEl =\n",
              "            document.querySelector('#df-06492f11-ce84-4bed-8605-6512c2b86eb9 button');\n",
              "          quickchartButtonEl.style.display =\n",
              "            google.colab.kernel.accessAllowed ? 'block' : 'none';\n",
              "        })();\n",
              "      </script>\n",
              "    </div>\n",
              "\n",
              "  <div id=\"id_8cf43df4-d272-4a99-939e-c249569ce7d3\">\n",
              "    <style>\n",
              "      .colab-df-generate {\n",
              "        background-color: #E8F0FE;\n",
              "        border: none;\n",
              "        border-radius: 50%;\n",
              "        cursor: pointer;\n",
              "        display: none;\n",
              "        fill: #1967D2;\n",
              "        height: 32px;\n",
              "        padding: 0 0 0 0;\n",
              "        width: 32px;\n",
              "      }\n",
              "\n",
              "      .colab-df-generate:hover {\n",
              "        background-color: #E2EBFA;\n",
              "        box-shadow: 0px 1px 2px rgba(60, 64, 67, 0.3), 0px 1px 3px 1px rgba(60, 64, 67, 0.15);\n",
              "        fill: #174EA6;\n",
              "      }\n",
              "\n",
              "      [theme=dark] .colab-df-generate {\n",
              "        background-color: #3B4455;\n",
              "        fill: #D2E3FC;\n",
              "      }\n",
              "\n",
              "      [theme=dark] .colab-df-generate:hover {\n",
              "        background-color: #434B5C;\n",
              "        box-shadow: 0px 1px 3px 1px rgba(0, 0, 0, 0.15);\n",
              "        filter: drop-shadow(0px 1px 2px rgba(0, 0, 0, 0.3));\n",
              "        fill: #FFFFFF;\n",
              "      }\n",
              "    </style>\n",
              "    <button class=\"colab-df-generate\" onclick=\"generateWithVariable('average_values_table')\"\n",
              "            title=\"Generate code using this dataframe.\"\n",
              "            style=\"display:none;\">\n",
              "\n",
              "  <svg xmlns=\"http://www.w3.org/2000/svg\" height=\"24px\"viewBox=\"0 0 24 24\"\n",
              "       width=\"24px\">\n",
              "    <path d=\"M7,19H8.4L18.45,9,17,7.55,7,17.6ZM5,21V16.75L18.45,3.32a2,2,0,0,1,2.83,0l1.4,1.43a1.91,1.91,0,0,1,.58,1.4,1.91,1.91,0,0,1-.58,1.4L9.25,21ZM18.45,9,17,7.55Zm-12,3A5.31,5.31,0,0,0,4.9,8.1,5.31,5.31,0,0,0,1,6.5,5.31,5.31,0,0,0,4.9,4.9,5.31,5.31,0,0,0,6.5,1,5.31,5.31,0,0,0,8.1,4.9,5.31,5.31,0,0,0,12,6.5,5.46,5.46,0,0,0,6.5,12Z\"/>\n",
              "  </svg>\n",
              "    </button>\n",
              "    <script>\n",
              "      (() => {\n",
              "      const buttonEl =\n",
              "        document.querySelector('#id_8cf43df4-d272-4a99-939e-c249569ce7d3 button.colab-df-generate');\n",
              "      buttonEl.style.display =\n",
              "        google.colab.kernel.accessAllowed ? 'block' : 'none';\n",
              "\n",
              "      buttonEl.onclick = () => {\n",
              "        google.colab.notebook.generateWithVariable('average_values_table');\n",
              "      }\n",
              "      })();\n",
              "    </script>\n",
              "  </div>\n",
              "\n",
              "    </div>\n",
              "  </div>\n"
            ],
            "application/vnd.google.colaboratory.intrinsic+json": {
              "type": "dataframe",
              "variable_name": "average_values_table",
              "summary": "{\n  \"name\": \"average_values_table\",\n  \"rows\": 20,\n  \"fields\": [\n    {\n      \"column\": \"Average Value\",\n      \"properties\": {\n        \"dtype\": \"number\",\n        \"std\": 3571.9563248169084,\n        \"min\": 0.12261806130903065,\n        \"max\": 15676.792667771333,\n        \"num_unique_values\": 20,\n        \"samples\": [\n          0.2655343827671914,\n          8.302299088649544,\n          0.7984672742336372\n        ],\n        \"semantic_type\": \"\",\n        \"description\": \"\"\n      }\n    }\n  ]\n}"
            }
          },
          "metadata": {},
          "execution_count": 4
        }
      ]
    },
    {
      "cell_type": "markdown",
      "source": [
        "### Split into test and train data sets"
      ],
      "metadata": {
        "id": "QWpk9Jgjas7I"
      }
    },
    {
      "cell_type": "code",
      "source": [
        "train, test = train_test_split(df, test_size=0.25, random_state=32)\n",
        "\n",
        "print(f\"Train shape: {train.shape}\")\n",
        "print(f\"Test shape: {test.shape}\")"
      ],
      "metadata": {
        "colab": {
          "base_uri": "https://localhost:8080/"
        },
        "id": "j5Wq5E4IMu9-",
        "outputId": "5513d726-59fc-4ccf-93c0-ac16d1c6cbd5"
      },
      "execution_count": 5,
      "outputs": [
        {
          "output_type": "stream",
          "name": "stdout",
          "text": [
            "Train shape: (7242, 20)\n",
            "Test shape: (2414, 20)\n"
          ]
        }
      ]
    },
    {
      "cell_type": "markdown",
      "source": [
        "We can extract our X and y, where from X we exclude the outcome we are trying to predict (hadclaim), our sensitive group lable 'job_bluecollar', and the 'probclaim' model prediction probability that we received with this data in the prior homework. We will create new probability models here."
      ],
      "metadata": {
        "id": "P8VoWXp_a0iP"
      }
    },
    {
      "cell_type": "code",
      "source": [
        "X=train.drop(['hadclaim', 'job_bluecollar', 'probclaim'], axis=1)\n",
        "y=train['hadclaim']\n",
        "\n",
        "Xtest=test.drop(['hadclaim', 'job_bluecollar' ,'probclaim'], axis=1)\n",
        "ytest=test['hadclaim']"
      ],
      "metadata": {
        "id": "4fwHOo70Ph99"
      },
      "execution_count": 6,
      "outputs": []
    },
    {
      "cell_type": "markdown",
      "source": [
        "## Logit Regression on the full set of features\n",
        "We begin by estimating a logit model predicting having a claim on all of the available features."
      ],
      "metadata": {
        "id": "O8kU_zPpbPwv"
      }
    },
    {
      "cell_type": "code",
      "source": [
        "# prompt: Create a logistic regression of y on the X\n",
        "\n",
        "# Add a constant to the predictor variables\n",
        "X = sm.add_constant(X)\n",
        "\n",
        "# Create and fit the logistic regression model\n",
        "logit_mod_full = sm.Logit(y, X).fit()\n",
        "\n",
        "# Print the summary of the model\n",
        "print(logit_mod_full.summary())"
      ],
      "metadata": {
        "colab": {
          "base_uri": "https://localhost:8080/"
        },
        "id": "Pg96YGw0ToKU",
        "outputId": "b213d740-20b5-4518-c720-df9f7d384418"
      },
      "execution_count": 7,
      "outputs": [
        {
          "output_type": "stream",
          "name": "stdout",
          "text": [
            "Optimization terminated successfully.\n",
            "         Current function value: 0.460054\n",
            "         Iterations 7\n",
            "                           Logit Regression Results                           \n",
            "==============================================================================\n",
            "Dep. Variable:               hadclaim   No. Observations:                 7242\n",
            "Model:                          Logit   Df Residuals:                     7224\n",
            "Method:                           MLE   Df Model:                           17\n",
            "Date:                Sat, 24 May 2025   Pseudo R-squ.:                  0.2066\n",
            "Time:                        08:34:41   Log-Likelihood:                -3331.7\n",
            "converged:                       True   LL-Null:                       -4199.5\n",
            "Covariance Type:            nonrobust   LLR p-value:                     0.000\n",
            "===============================================================================\n",
            "                  coef    std err          z      P>|z|      [0.025      0.975]\n",
            "-------------------------------------------------------------------------------\n",
            "const          -2.6098      0.242    -10.789      0.000      -3.084      -2.136\n",
            "commercial      0.9404      0.067     13.992      0.000       0.809       1.072\n",
            "clm_freq5       0.2165      0.030      7.299      0.000       0.158       0.275\n",
            "clm_amt5    -1.004e-05   4.03e-06     -2.490      0.013   -1.79e-05   -2.14e-06\n",
            "kidsdriv        0.3186      0.064      4.962      0.000       0.193       0.445\n",
            "travtime        0.0164      0.002      8.293      0.000       0.013       0.020\n",
            "redcar          0.0098      0.091      0.108      0.914      -0.169       0.189\n",
            "bluebook     -4.01e-05   4.04e-06     -9.931      0.000    -4.8e-05   -3.22e-05\n",
            "retained       -0.0530      0.008     -6.901      0.000      -0.068      -0.038\n",
            "revolked        0.8475      0.095      8.960      0.000       0.662       1.033\n",
            "mvr_pts         0.1206      0.014      8.538      0.000       0.093       0.148\n",
            "age            -0.0021      0.004     -0.529      0.596      -0.010       0.006\n",
            "homekids        0.1569      0.034      4.663      0.000       0.091       0.223\n",
            "male           -0.3208      0.086     -3.727      0.000      -0.489      -0.152\n",
            "married        -0.5434      0.074     -7.385      0.000      -0.688      -0.399\n",
            "urban           2.3015      0.124     18.612      0.000       2.059       2.544\n",
            "homeowner      -0.3776      0.074     -5.106      0.000      -0.523      -0.233\n",
            "yearsinhome    -0.0480      0.006     -8.484      0.000      -0.059      -0.037\n",
            "===============================================================================\n"
          ]
        }
      ]
    },
    {
      "cell_type": "markdown",
      "source": [
        "You might take a little time at this point to look over the set of coefficient estimates and form some initial hypotheses as to why some of these variables enter the model with the strength and/or direction they do."
      ],
      "metadata": {
        "id": "qJ4o6PE9bet6"
      }
    },
    {
      "cell_type": "markdown",
      "source": [
        "Next we get the predicted probabilities. We will label everything here with the subscript \"full\" to reflect the full-feature logit model."
      ],
      "metadata": {
        "id": "SmK1UeagcGZO"
      }
    },
    {
      "cell_type": "code",
      "source": [
        "# prompt: get the predicted probabilities from the logit_mod_full in the dataset test separately by the variable job_bluecollar\n",
        "\n",
        "# Add a constant to the test predictor variables\n",
        "Xtest = sm.add_constant(Xtest)\n",
        "\n",
        "# Get the predicted probabilities for the test set\n",
        "test['prob_full'] = logit_mod_full.predict(Xtest)"
      ],
      "metadata": {
        "id": "iLmThmeRUibL"
      },
      "execution_count": 8,
      "outputs": []
    },
    {
      "cell_type": "markdown",
      "source": [
        "Now we get the predicted classifications based on our pre-determined threshold of probability > .6."
      ],
      "metadata": {
        "id": "Uqy5Uh-Lc7DB"
      }
    },
    {
      "cell_type": "code",
      "source": [
        "# Create a binary prediction of 1 if the predicted probability is greater than .6 and 0 otherwise.\n",
        "test['predicted_full'] = np.where(test['prob_full'] > 0.6, 1, 0)\n",
        "\n",
        "# Create a table with average prediction and average actual claim rate.\n",
        "prediction_summary = test[['predicted_full', 'hadclaim']].mean().round(3)\n",
        "prediction_summary\n",
        "\n"
      ],
      "metadata": {
        "colab": {
          "base_uri": "https://localhost:8080/",
          "height": 147
        },
        "id": "A1BXWZLuWjnf",
        "outputId": "7293ced3-fd42-4fbf-8bdb-97903798d4ac"
      },
      "execution_count": 20,
      "outputs": [
        {
          "output_type": "execute_result",
          "data": {
            "text/plain": [
              "predicted_full    0.089\n",
              "hadclaim          0.262\n",
              "dtype: float64"
            ],
            "text/html": [
              "<div>\n",
              "<style scoped>\n",
              "    .dataframe tbody tr th:only-of-type {\n",
              "        vertical-align: middle;\n",
              "    }\n",
              "\n",
              "    .dataframe tbody tr th {\n",
              "        vertical-align: top;\n",
              "    }\n",
              "\n",
              "    .dataframe thead th {\n",
              "        text-align: right;\n",
              "    }\n",
              "</style>\n",
              "<table border=\"1\" class=\"dataframe\">\n",
              "  <thead>\n",
              "    <tr style=\"text-align: right;\">\n",
              "      <th></th>\n",
              "      <th>0</th>\n",
              "    </tr>\n",
              "  </thead>\n",
              "  <tbody>\n",
              "    <tr>\n",
              "      <th>predicted_full</th>\n",
              "      <td>0.089</td>\n",
              "    </tr>\n",
              "    <tr>\n",
              "      <th>hadclaim</th>\n",
              "      <td>0.262</td>\n",
              "    </tr>\n",
              "  </tbody>\n",
              "</table>\n",
              "</div><br><label><b>dtype:</b> float64</label>"
            ]
          },
          "metadata": {},
          "execution_count": 20
        }
      ]
    },
    {
      "cell_type": "markdown",
      "source": [
        "We see that the model only was able to predict about 9% at risk even though th 26% of the sample had a claim. This is related to the 60% threshold in probability we used to classify."
      ],
      "metadata": {
        "id": "KRXG8zKbfdwf"
      }
    },
    {
      "cell_type": "markdown",
      "source": [
        "We can also add the confusion matrix at this point"
      ],
      "metadata": {
        "id": "e7VQWoDTegD6"
      }
    },
    {
      "cell_type": "code",
      "source": [
        "# Let's get the confusion matrix\n",
        "cm_temp_full = confusion_matrix(ytest, test['predicted_full'])\n",
        "\n",
        "# Wrap it in a labeled DataFrame\n",
        "cm_full = pd.DataFrame(\n",
        "    cm_temp_full,\n",
        "    index=['Actual 0', 'Actual 1'],\n",
        "    columns=['Predicted 0', 'Predicted 1']\n",
        ")\n",
        "\n",
        "print(\"Confusion Matrix:\")\n",
        "cm_full"
      ],
      "metadata": {
        "colab": {
          "base_uri": "https://localhost:8080/",
          "height": 142
        },
        "id": "0KNIx119dvQH",
        "outputId": "44d0509a-a363-4c01-8db3-efdee81e247d"
      },
      "execution_count": 16,
      "outputs": [
        {
          "output_type": "stream",
          "name": "stdout",
          "text": [
            "Confusion Matrix:\n"
          ]
        },
        {
          "output_type": "execute_result",
          "data": {
            "text/plain": [
              "          Predicted 0  Predicted 1\n",
              "Actual 0         1712           69\n",
              "Actual 1          487          146"
            ],
            "text/html": [
              "\n",
              "  <div id=\"df-f2ec3046-694b-4f19-aad6-daa23a9b962d\" class=\"colab-df-container\">\n",
              "    <div>\n",
              "<style scoped>\n",
              "    .dataframe tbody tr th:only-of-type {\n",
              "        vertical-align: middle;\n",
              "    }\n",
              "\n",
              "    .dataframe tbody tr th {\n",
              "        vertical-align: top;\n",
              "    }\n",
              "\n",
              "    .dataframe thead th {\n",
              "        text-align: right;\n",
              "    }\n",
              "</style>\n",
              "<table border=\"1\" class=\"dataframe\">\n",
              "  <thead>\n",
              "    <tr style=\"text-align: right;\">\n",
              "      <th></th>\n",
              "      <th>Predicted 0</th>\n",
              "      <th>Predicted 1</th>\n",
              "    </tr>\n",
              "  </thead>\n",
              "  <tbody>\n",
              "    <tr>\n",
              "      <th>Actual 0</th>\n",
              "      <td>1712</td>\n",
              "      <td>69</td>\n",
              "    </tr>\n",
              "    <tr>\n",
              "      <th>Actual 1</th>\n",
              "      <td>487</td>\n",
              "      <td>146</td>\n",
              "    </tr>\n",
              "  </tbody>\n",
              "</table>\n",
              "</div>\n",
              "    <div class=\"colab-df-buttons\">\n",
              "\n",
              "  <div class=\"colab-df-container\">\n",
              "    <button class=\"colab-df-convert\" onclick=\"convertToInteractive('df-f2ec3046-694b-4f19-aad6-daa23a9b962d')\"\n",
              "            title=\"Convert this dataframe to an interactive table.\"\n",
              "            style=\"display:none;\">\n",
              "\n",
              "  <svg xmlns=\"http://www.w3.org/2000/svg\" height=\"24px\" viewBox=\"0 -960 960 960\">\n",
              "    <path d=\"M120-120v-720h720v720H120Zm60-500h600v-160H180v160Zm220 220h160v-160H400v160Zm0 220h160v-160H400v160ZM180-400h160v-160H180v160Zm440 0h160v-160H620v160ZM180-180h160v-160H180v160Zm440 0h160v-160H620v160Z\"/>\n",
              "  </svg>\n",
              "    </button>\n",
              "\n",
              "  <style>\n",
              "    .colab-df-container {\n",
              "      display:flex;\n",
              "      gap: 12px;\n",
              "    }\n",
              "\n",
              "    .colab-df-convert {\n",
              "      background-color: #E8F0FE;\n",
              "      border: none;\n",
              "      border-radius: 50%;\n",
              "      cursor: pointer;\n",
              "      display: none;\n",
              "      fill: #1967D2;\n",
              "      height: 32px;\n",
              "      padding: 0 0 0 0;\n",
              "      width: 32px;\n",
              "    }\n",
              "\n",
              "    .colab-df-convert:hover {\n",
              "      background-color: #E2EBFA;\n",
              "      box-shadow: 0px 1px 2px rgba(60, 64, 67, 0.3), 0px 1px 3px 1px rgba(60, 64, 67, 0.15);\n",
              "      fill: #174EA6;\n",
              "    }\n",
              "\n",
              "    .colab-df-buttons div {\n",
              "      margin-bottom: 4px;\n",
              "    }\n",
              "\n",
              "    [theme=dark] .colab-df-convert {\n",
              "      background-color: #3B4455;\n",
              "      fill: #D2E3FC;\n",
              "    }\n",
              "\n",
              "    [theme=dark] .colab-df-convert:hover {\n",
              "      background-color: #434B5C;\n",
              "      box-shadow: 0px 1px 3px 1px rgba(0, 0, 0, 0.15);\n",
              "      filter: drop-shadow(0px 1px 2px rgba(0, 0, 0, 0.3));\n",
              "      fill: #FFFFFF;\n",
              "    }\n",
              "  </style>\n",
              "\n",
              "    <script>\n",
              "      const buttonEl =\n",
              "        document.querySelector('#df-f2ec3046-694b-4f19-aad6-daa23a9b962d button.colab-df-convert');\n",
              "      buttonEl.style.display =\n",
              "        google.colab.kernel.accessAllowed ? 'block' : 'none';\n",
              "\n",
              "      async function convertToInteractive(key) {\n",
              "        const element = document.querySelector('#df-f2ec3046-694b-4f19-aad6-daa23a9b962d');\n",
              "        const dataTable =\n",
              "          await google.colab.kernel.invokeFunction('convertToInteractive',\n",
              "                                                    [key], {});\n",
              "        if (!dataTable) return;\n",
              "\n",
              "        const docLinkHtml = 'Like what you see? Visit the ' +\n",
              "          '<a target=\"_blank\" href=https://colab.research.google.com/notebooks/data_table.ipynb>data table notebook</a>'\n",
              "          + ' to learn more about interactive tables.';\n",
              "        element.innerHTML = '';\n",
              "        dataTable['output_type'] = 'display_data';\n",
              "        await google.colab.output.renderOutput(dataTable, element);\n",
              "        const docLink = document.createElement('div');\n",
              "        docLink.innerHTML = docLinkHtml;\n",
              "        element.appendChild(docLink);\n",
              "      }\n",
              "    </script>\n",
              "  </div>\n",
              "\n",
              "\n",
              "    <div id=\"df-86371b5a-d491-47d6-85b2-394d7a8cd692\">\n",
              "      <button class=\"colab-df-quickchart\" onclick=\"quickchart('df-86371b5a-d491-47d6-85b2-394d7a8cd692')\"\n",
              "                title=\"Suggest charts\"\n",
              "                style=\"display:none;\">\n",
              "\n",
              "<svg xmlns=\"http://www.w3.org/2000/svg\" height=\"24px\"viewBox=\"0 0 24 24\"\n",
              "     width=\"24px\">\n",
              "    <g>\n",
              "        <path d=\"M19 3H5c-1.1 0-2 .9-2 2v14c0 1.1.9 2 2 2h14c1.1 0 2-.9 2-2V5c0-1.1-.9-2-2-2zM9 17H7v-7h2v7zm4 0h-2V7h2v10zm4 0h-2v-4h2v4z\"/>\n",
              "    </g>\n",
              "</svg>\n",
              "      </button>\n",
              "\n",
              "<style>\n",
              "  .colab-df-quickchart {\n",
              "      --bg-color: #E8F0FE;\n",
              "      --fill-color: #1967D2;\n",
              "      --hover-bg-color: #E2EBFA;\n",
              "      --hover-fill-color: #174EA6;\n",
              "      --disabled-fill-color: #AAA;\n",
              "      --disabled-bg-color: #DDD;\n",
              "  }\n",
              "\n",
              "  [theme=dark] .colab-df-quickchart {\n",
              "      --bg-color: #3B4455;\n",
              "      --fill-color: #D2E3FC;\n",
              "      --hover-bg-color: #434B5C;\n",
              "      --hover-fill-color: #FFFFFF;\n",
              "      --disabled-bg-color: #3B4455;\n",
              "      --disabled-fill-color: #666;\n",
              "  }\n",
              "\n",
              "  .colab-df-quickchart {\n",
              "    background-color: var(--bg-color);\n",
              "    border: none;\n",
              "    border-radius: 50%;\n",
              "    cursor: pointer;\n",
              "    display: none;\n",
              "    fill: var(--fill-color);\n",
              "    height: 32px;\n",
              "    padding: 0;\n",
              "    width: 32px;\n",
              "  }\n",
              "\n",
              "  .colab-df-quickchart:hover {\n",
              "    background-color: var(--hover-bg-color);\n",
              "    box-shadow: 0 1px 2px rgba(60, 64, 67, 0.3), 0 1px 3px 1px rgba(60, 64, 67, 0.15);\n",
              "    fill: var(--button-hover-fill-color);\n",
              "  }\n",
              "\n",
              "  .colab-df-quickchart-complete:disabled,\n",
              "  .colab-df-quickchart-complete:disabled:hover {\n",
              "    background-color: var(--disabled-bg-color);\n",
              "    fill: var(--disabled-fill-color);\n",
              "    box-shadow: none;\n",
              "  }\n",
              "\n",
              "  .colab-df-spinner {\n",
              "    border: 2px solid var(--fill-color);\n",
              "    border-color: transparent;\n",
              "    border-bottom-color: var(--fill-color);\n",
              "    animation:\n",
              "      spin 1s steps(1) infinite;\n",
              "  }\n",
              "\n",
              "  @keyframes spin {\n",
              "    0% {\n",
              "      border-color: transparent;\n",
              "      border-bottom-color: var(--fill-color);\n",
              "      border-left-color: var(--fill-color);\n",
              "    }\n",
              "    20% {\n",
              "      border-color: transparent;\n",
              "      border-left-color: var(--fill-color);\n",
              "      border-top-color: var(--fill-color);\n",
              "    }\n",
              "    30% {\n",
              "      border-color: transparent;\n",
              "      border-left-color: var(--fill-color);\n",
              "      border-top-color: var(--fill-color);\n",
              "      border-right-color: var(--fill-color);\n",
              "    }\n",
              "    40% {\n",
              "      border-color: transparent;\n",
              "      border-right-color: var(--fill-color);\n",
              "      border-top-color: var(--fill-color);\n",
              "    }\n",
              "    60% {\n",
              "      border-color: transparent;\n",
              "      border-right-color: var(--fill-color);\n",
              "    }\n",
              "    80% {\n",
              "      border-color: transparent;\n",
              "      border-right-color: var(--fill-color);\n",
              "      border-bottom-color: var(--fill-color);\n",
              "    }\n",
              "    90% {\n",
              "      border-color: transparent;\n",
              "      border-bottom-color: var(--fill-color);\n",
              "    }\n",
              "  }\n",
              "</style>\n",
              "\n",
              "      <script>\n",
              "        async function quickchart(key) {\n",
              "          const quickchartButtonEl =\n",
              "            document.querySelector('#' + key + ' button');\n",
              "          quickchartButtonEl.disabled = true;  // To prevent multiple clicks.\n",
              "          quickchartButtonEl.classList.add('colab-df-spinner');\n",
              "          try {\n",
              "            const charts = await google.colab.kernel.invokeFunction(\n",
              "                'suggestCharts', [key], {});\n",
              "          } catch (error) {\n",
              "            console.error('Error during call to suggestCharts:', error);\n",
              "          }\n",
              "          quickchartButtonEl.classList.remove('colab-df-spinner');\n",
              "          quickchartButtonEl.classList.add('colab-df-quickchart-complete');\n",
              "        }\n",
              "        (() => {\n",
              "          let quickchartButtonEl =\n",
              "            document.querySelector('#df-86371b5a-d491-47d6-85b2-394d7a8cd692 button');\n",
              "          quickchartButtonEl.style.display =\n",
              "            google.colab.kernel.accessAllowed ? 'block' : 'none';\n",
              "        })();\n",
              "      </script>\n",
              "    </div>\n",
              "\n",
              "  <div id=\"id_df3a39ab-e841-4711-bb76-464e2d2c0579\">\n",
              "    <style>\n",
              "      .colab-df-generate {\n",
              "        background-color: #E8F0FE;\n",
              "        border: none;\n",
              "        border-radius: 50%;\n",
              "        cursor: pointer;\n",
              "        display: none;\n",
              "        fill: #1967D2;\n",
              "        height: 32px;\n",
              "        padding: 0 0 0 0;\n",
              "        width: 32px;\n",
              "      }\n",
              "\n",
              "      .colab-df-generate:hover {\n",
              "        background-color: #E2EBFA;\n",
              "        box-shadow: 0px 1px 2px rgba(60, 64, 67, 0.3), 0px 1px 3px 1px rgba(60, 64, 67, 0.15);\n",
              "        fill: #174EA6;\n",
              "      }\n",
              "\n",
              "      [theme=dark] .colab-df-generate {\n",
              "        background-color: #3B4455;\n",
              "        fill: #D2E3FC;\n",
              "      }\n",
              "\n",
              "      [theme=dark] .colab-df-generate:hover {\n",
              "        background-color: #434B5C;\n",
              "        box-shadow: 0px 1px 3px 1px rgba(0, 0, 0, 0.15);\n",
              "        filter: drop-shadow(0px 1px 2px rgba(0, 0, 0, 0.3));\n",
              "        fill: #FFFFFF;\n",
              "      }\n",
              "    </style>\n",
              "    <button class=\"colab-df-generate\" onclick=\"generateWithVariable('cm_full')\"\n",
              "            title=\"Generate code using this dataframe.\"\n",
              "            style=\"display:none;\">\n",
              "\n",
              "  <svg xmlns=\"http://www.w3.org/2000/svg\" height=\"24px\"viewBox=\"0 0 24 24\"\n",
              "       width=\"24px\">\n",
              "    <path d=\"M7,19H8.4L18.45,9,17,7.55,7,17.6ZM5,21V16.75L18.45,3.32a2,2,0,0,1,2.83,0l1.4,1.43a1.91,1.91,0,0,1,.58,1.4,1.91,1.91,0,0,1-.58,1.4L9.25,21ZM18.45,9,17,7.55Zm-12,3A5.31,5.31,0,0,0,4.9,8.1,5.31,5.31,0,0,0,1,6.5,5.31,5.31,0,0,0,4.9,4.9,5.31,5.31,0,0,0,6.5,1,5.31,5.31,0,0,0,8.1,4.9,5.31,5.31,0,0,0,12,6.5,5.46,5.46,0,0,0,6.5,12Z\"/>\n",
              "  </svg>\n",
              "    </button>\n",
              "    <script>\n",
              "      (() => {\n",
              "      const buttonEl =\n",
              "        document.querySelector('#id_df3a39ab-e841-4711-bb76-464e2d2c0579 button.colab-df-generate');\n",
              "      buttonEl.style.display =\n",
              "        google.colab.kernel.accessAllowed ? 'block' : 'none';\n",
              "\n",
              "      buttonEl.onclick = () => {\n",
              "        google.colab.notebook.generateWithVariable('cm_full');\n",
              "      }\n",
              "      })();\n",
              "    </script>\n",
              "  </div>\n",
              "\n",
              "    </div>\n",
              "  </div>\n"
            ],
            "application/vnd.google.colaboratory.intrinsic+json": {
              "type": "dataframe",
              "variable_name": "cm_full",
              "summary": "{\n  \"name\": \"cm_full\",\n  \"rows\": 2,\n  \"fields\": [\n    {\n      \"column\": \"Predicted 0\",\n      \"properties\": {\n        \"dtype\": \"number\",\n        \"std\": 866,\n        \"min\": 487,\n        \"max\": 1712,\n        \"num_unique_values\": 2,\n        \"samples\": [\n          487,\n          1712\n        ],\n        \"semantic_type\": \"\",\n        \"description\": \"\"\n      }\n    },\n    {\n      \"column\": \"Predicted 1\",\n      \"properties\": {\n        \"dtype\": \"number\",\n        \"std\": 54,\n        \"min\": 69,\n        \"max\": 146,\n        \"num_unique_values\": 2,\n        \"samples\": [\n          146,\n          69\n        ],\n        \"semantic_type\": \"\",\n        \"description\": \"\"\n      }\n    }\n  ]\n}"
            }
          },
          "metadata": {},
          "execution_count": 16
        }
      ]
    },
    {
      "cell_type": "markdown",
      "source": [
        "We see that the full logit model correctly predicted 146 of 633 actual positive cases in the test set."
      ],
      "metadata": {
        "id": "vpg8hZMNejle"
      }
    },
    {
      "cell_type": "markdown",
      "source": [
        "### Analyze differences in the predictions\n",
        "Now we want to graph the distribution of the predicted probabilities separately by our group variable for blue collar vs. not."
      ],
      "metadata": {
        "id": "UcvoZKbvcPsd"
      }
    },
    {
      "cell_type": "code",
      "source": [
        "# Create a table with average prediction and average actual claim rate by blue collar status.\n",
        "prediction_summary = test.groupby('job_bluecollar')[['predicted_full', 'hadclaim']].mean().round(3)\n",
        "prediction_summary\n"
      ],
      "metadata": {
        "colab": {
          "base_uri": "https://localhost:8080/",
          "height": 143
        },
        "id": "bB1xXDy4e7xx",
        "outputId": "48338613-75ca-4531-8159-ae4536c2b9d3"
      },
      "execution_count": 21,
      "outputs": [
        {
          "output_type": "execute_result",
          "data": {
            "text/plain": [
              "                predicted_full  hadclaim\n",
              "job_bluecollar                          \n",
              "0                        0.067     0.234\n",
              "1                        0.169     0.364"
            ],
            "text/html": [
              "\n",
              "  <div id=\"df-2ab9c65e-60eb-4455-bb6e-6dcbf4edb564\" class=\"colab-df-container\">\n",
              "    <div>\n",
              "<style scoped>\n",
              "    .dataframe tbody tr th:only-of-type {\n",
              "        vertical-align: middle;\n",
              "    }\n",
              "\n",
              "    .dataframe tbody tr th {\n",
              "        vertical-align: top;\n",
              "    }\n",
              "\n",
              "    .dataframe thead th {\n",
              "        text-align: right;\n",
              "    }\n",
              "</style>\n",
              "<table border=\"1\" class=\"dataframe\">\n",
              "  <thead>\n",
              "    <tr style=\"text-align: right;\">\n",
              "      <th></th>\n",
              "      <th>predicted_full</th>\n",
              "      <th>hadclaim</th>\n",
              "    </tr>\n",
              "    <tr>\n",
              "      <th>job_bluecollar</th>\n",
              "      <th></th>\n",
              "      <th></th>\n",
              "    </tr>\n",
              "  </thead>\n",
              "  <tbody>\n",
              "    <tr>\n",
              "      <th>0</th>\n",
              "      <td>0.067</td>\n",
              "      <td>0.234</td>\n",
              "    </tr>\n",
              "    <tr>\n",
              "      <th>1</th>\n",
              "      <td>0.169</td>\n",
              "      <td>0.364</td>\n",
              "    </tr>\n",
              "  </tbody>\n",
              "</table>\n",
              "</div>\n",
              "    <div class=\"colab-df-buttons\">\n",
              "\n",
              "  <div class=\"colab-df-container\">\n",
              "    <button class=\"colab-df-convert\" onclick=\"convertToInteractive('df-2ab9c65e-60eb-4455-bb6e-6dcbf4edb564')\"\n",
              "            title=\"Convert this dataframe to an interactive table.\"\n",
              "            style=\"display:none;\">\n",
              "\n",
              "  <svg xmlns=\"http://www.w3.org/2000/svg\" height=\"24px\" viewBox=\"0 -960 960 960\">\n",
              "    <path d=\"M120-120v-720h720v720H120Zm60-500h600v-160H180v160Zm220 220h160v-160H400v160Zm0 220h160v-160H400v160ZM180-400h160v-160H180v160Zm440 0h160v-160H620v160ZM180-180h160v-160H180v160Zm440 0h160v-160H620v160Z\"/>\n",
              "  </svg>\n",
              "    </button>\n",
              "\n",
              "  <style>\n",
              "    .colab-df-container {\n",
              "      display:flex;\n",
              "      gap: 12px;\n",
              "    }\n",
              "\n",
              "    .colab-df-convert {\n",
              "      background-color: #E8F0FE;\n",
              "      border: none;\n",
              "      border-radius: 50%;\n",
              "      cursor: pointer;\n",
              "      display: none;\n",
              "      fill: #1967D2;\n",
              "      height: 32px;\n",
              "      padding: 0 0 0 0;\n",
              "      width: 32px;\n",
              "    }\n",
              "\n",
              "    .colab-df-convert:hover {\n",
              "      background-color: #E2EBFA;\n",
              "      box-shadow: 0px 1px 2px rgba(60, 64, 67, 0.3), 0px 1px 3px 1px rgba(60, 64, 67, 0.15);\n",
              "      fill: #174EA6;\n",
              "    }\n",
              "\n",
              "    .colab-df-buttons div {\n",
              "      margin-bottom: 4px;\n",
              "    }\n",
              "\n",
              "    [theme=dark] .colab-df-convert {\n",
              "      background-color: #3B4455;\n",
              "      fill: #D2E3FC;\n",
              "    }\n",
              "\n",
              "    [theme=dark] .colab-df-convert:hover {\n",
              "      background-color: #434B5C;\n",
              "      box-shadow: 0px 1px 3px 1px rgba(0, 0, 0, 0.15);\n",
              "      filter: drop-shadow(0px 1px 2px rgba(0, 0, 0, 0.3));\n",
              "      fill: #FFFFFF;\n",
              "    }\n",
              "  </style>\n",
              "\n",
              "    <script>\n",
              "      const buttonEl =\n",
              "        document.querySelector('#df-2ab9c65e-60eb-4455-bb6e-6dcbf4edb564 button.colab-df-convert');\n",
              "      buttonEl.style.display =\n",
              "        google.colab.kernel.accessAllowed ? 'block' : 'none';\n",
              "\n",
              "      async function convertToInteractive(key) {\n",
              "        const element = document.querySelector('#df-2ab9c65e-60eb-4455-bb6e-6dcbf4edb564');\n",
              "        const dataTable =\n",
              "          await google.colab.kernel.invokeFunction('convertToInteractive',\n",
              "                                                    [key], {});\n",
              "        if (!dataTable) return;\n",
              "\n",
              "        const docLinkHtml = 'Like what you see? Visit the ' +\n",
              "          '<a target=\"_blank\" href=https://colab.research.google.com/notebooks/data_table.ipynb>data table notebook</a>'\n",
              "          + ' to learn more about interactive tables.';\n",
              "        element.innerHTML = '';\n",
              "        dataTable['output_type'] = 'display_data';\n",
              "        await google.colab.output.renderOutput(dataTable, element);\n",
              "        const docLink = document.createElement('div');\n",
              "        docLink.innerHTML = docLinkHtml;\n",
              "        element.appendChild(docLink);\n",
              "      }\n",
              "    </script>\n",
              "  </div>\n",
              "\n",
              "\n",
              "    <div id=\"df-f791ff9a-b708-4982-8deb-087273702398\">\n",
              "      <button class=\"colab-df-quickchart\" onclick=\"quickchart('df-f791ff9a-b708-4982-8deb-087273702398')\"\n",
              "                title=\"Suggest charts\"\n",
              "                style=\"display:none;\">\n",
              "\n",
              "<svg xmlns=\"http://www.w3.org/2000/svg\" height=\"24px\"viewBox=\"0 0 24 24\"\n",
              "     width=\"24px\">\n",
              "    <g>\n",
              "        <path d=\"M19 3H5c-1.1 0-2 .9-2 2v14c0 1.1.9 2 2 2h14c1.1 0 2-.9 2-2V5c0-1.1-.9-2-2-2zM9 17H7v-7h2v7zm4 0h-2V7h2v10zm4 0h-2v-4h2v4z\"/>\n",
              "    </g>\n",
              "</svg>\n",
              "      </button>\n",
              "\n",
              "<style>\n",
              "  .colab-df-quickchart {\n",
              "      --bg-color: #E8F0FE;\n",
              "      --fill-color: #1967D2;\n",
              "      --hover-bg-color: #E2EBFA;\n",
              "      --hover-fill-color: #174EA6;\n",
              "      --disabled-fill-color: #AAA;\n",
              "      --disabled-bg-color: #DDD;\n",
              "  }\n",
              "\n",
              "  [theme=dark] .colab-df-quickchart {\n",
              "      --bg-color: #3B4455;\n",
              "      --fill-color: #D2E3FC;\n",
              "      --hover-bg-color: #434B5C;\n",
              "      --hover-fill-color: #FFFFFF;\n",
              "      --disabled-bg-color: #3B4455;\n",
              "      --disabled-fill-color: #666;\n",
              "  }\n",
              "\n",
              "  .colab-df-quickchart {\n",
              "    background-color: var(--bg-color);\n",
              "    border: none;\n",
              "    border-radius: 50%;\n",
              "    cursor: pointer;\n",
              "    display: none;\n",
              "    fill: var(--fill-color);\n",
              "    height: 32px;\n",
              "    padding: 0;\n",
              "    width: 32px;\n",
              "  }\n",
              "\n",
              "  .colab-df-quickchart:hover {\n",
              "    background-color: var(--hover-bg-color);\n",
              "    box-shadow: 0 1px 2px rgba(60, 64, 67, 0.3), 0 1px 3px 1px rgba(60, 64, 67, 0.15);\n",
              "    fill: var(--button-hover-fill-color);\n",
              "  }\n",
              "\n",
              "  .colab-df-quickchart-complete:disabled,\n",
              "  .colab-df-quickchart-complete:disabled:hover {\n",
              "    background-color: var(--disabled-bg-color);\n",
              "    fill: var(--disabled-fill-color);\n",
              "    box-shadow: none;\n",
              "  }\n",
              "\n",
              "  .colab-df-spinner {\n",
              "    border: 2px solid var(--fill-color);\n",
              "    border-color: transparent;\n",
              "    border-bottom-color: var(--fill-color);\n",
              "    animation:\n",
              "      spin 1s steps(1) infinite;\n",
              "  }\n",
              "\n",
              "  @keyframes spin {\n",
              "    0% {\n",
              "      border-color: transparent;\n",
              "      border-bottom-color: var(--fill-color);\n",
              "      border-left-color: var(--fill-color);\n",
              "    }\n",
              "    20% {\n",
              "      border-color: transparent;\n",
              "      border-left-color: var(--fill-color);\n",
              "      border-top-color: var(--fill-color);\n",
              "    }\n",
              "    30% {\n",
              "      border-color: transparent;\n",
              "      border-left-color: var(--fill-color);\n",
              "      border-top-color: var(--fill-color);\n",
              "      border-right-color: var(--fill-color);\n",
              "    }\n",
              "    40% {\n",
              "      border-color: transparent;\n",
              "      border-right-color: var(--fill-color);\n",
              "      border-top-color: var(--fill-color);\n",
              "    }\n",
              "    60% {\n",
              "      border-color: transparent;\n",
              "      border-right-color: var(--fill-color);\n",
              "    }\n",
              "    80% {\n",
              "      border-color: transparent;\n",
              "      border-right-color: var(--fill-color);\n",
              "      border-bottom-color: var(--fill-color);\n",
              "    }\n",
              "    90% {\n",
              "      border-color: transparent;\n",
              "      border-bottom-color: var(--fill-color);\n",
              "    }\n",
              "  }\n",
              "</style>\n",
              "\n",
              "      <script>\n",
              "        async function quickchart(key) {\n",
              "          const quickchartButtonEl =\n",
              "            document.querySelector('#' + key + ' button');\n",
              "          quickchartButtonEl.disabled = true;  // To prevent multiple clicks.\n",
              "          quickchartButtonEl.classList.add('colab-df-spinner');\n",
              "          try {\n",
              "            const charts = await google.colab.kernel.invokeFunction(\n",
              "                'suggestCharts', [key], {});\n",
              "          } catch (error) {\n",
              "            console.error('Error during call to suggestCharts:', error);\n",
              "          }\n",
              "          quickchartButtonEl.classList.remove('colab-df-spinner');\n",
              "          quickchartButtonEl.classList.add('colab-df-quickchart-complete');\n",
              "        }\n",
              "        (() => {\n",
              "          let quickchartButtonEl =\n",
              "            document.querySelector('#df-f791ff9a-b708-4982-8deb-087273702398 button');\n",
              "          quickchartButtonEl.style.display =\n",
              "            google.colab.kernel.accessAllowed ? 'block' : 'none';\n",
              "        })();\n",
              "      </script>\n",
              "    </div>\n",
              "\n",
              "  <div id=\"id_b80db54a-499f-4b72-98d7-51f2dea2e08d\">\n",
              "    <style>\n",
              "      .colab-df-generate {\n",
              "        background-color: #E8F0FE;\n",
              "        border: none;\n",
              "        border-radius: 50%;\n",
              "        cursor: pointer;\n",
              "        display: none;\n",
              "        fill: #1967D2;\n",
              "        height: 32px;\n",
              "        padding: 0 0 0 0;\n",
              "        width: 32px;\n",
              "      }\n",
              "\n",
              "      .colab-df-generate:hover {\n",
              "        background-color: #E2EBFA;\n",
              "        box-shadow: 0px 1px 2px rgba(60, 64, 67, 0.3), 0px 1px 3px 1px rgba(60, 64, 67, 0.15);\n",
              "        fill: #174EA6;\n",
              "      }\n",
              "\n",
              "      [theme=dark] .colab-df-generate {\n",
              "        background-color: #3B4455;\n",
              "        fill: #D2E3FC;\n",
              "      }\n",
              "\n",
              "      [theme=dark] .colab-df-generate:hover {\n",
              "        background-color: #434B5C;\n",
              "        box-shadow: 0px 1px 3px 1px rgba(0, 0, 0, 0.15);\n",
              "        filter: drop-shadow(0px 1px 2px rgba(0, 0, 0, 0.3));\n",
              "        fill: #FFFFFF;\n",
              "      }\n",
              "    </style>\n",
              "    <button class=\"colab-df-generate\" onclick=\"generateWithVariable('prediction_summary')\"\n",
              "            title=\"Generate code using this dataframe.\"\n",
              "            style=\"display:none;\">\n",
              "\n",
              "  <svg xmlns=\"http://www.w3.org/2000/svg\" height=\"24px\"viewBox=\"0 0 24 24\"\n",
              "       width=\"24px\">\n",
              "    <path d=\"M7,19H8.4L18.45,9,17,7.55,7,17.6ZM5,21V16.75L18.45,3.32a2,2,0,0,1,2.83,0l1.4,1.43a1.91,1.91,0,0,1,.58,1.4,1.91,1.91,0,0,1-.58,1.4L9.25,21ZM18.45,9,17,7.55Zm-12,3A5.31,5.31,0,0,0,4.9,8.1,5.31,5.31,0,0,0,1,6.5,5.31,5.31,0,0,0,4.9,4.9,5.31,5.31,0,0,0,6.5,1,5.31,5.31,0,0,0,8.1,4.9,5.31,5.31,0,0,0,12,6.5,5.46,5.46,0,0,0,6.5,12Z\"/>\n",
              "  </svg>\n",
              "    </button>\n",
              "    <script>\n",
              "      (() => {\n",
              "      const buttonEl =\n",
              "        document.querySelector('#id_b80db54a-499f-4b72-98d7-51f2dea2e08d button.colab-df-generate');\n",
              "      buttonEl.style.display =\n",
              "        google.colab.kernel.accessAllowed ? 'block' : 'none';\n",
              "\n",
              "      buttonEl.onclick = () => {\n",
              "        google.colab.notebook.generateWithVariable('prediction_summary');\n",
              "      }\n",
              "      })();\n",
              "    </script>\n",
              "  </div>\n",
              "\n",
              "    </div>\n",
              "  </div>\n"
            ],
            "application/vnd.google.colaboratory.intrinsic+json": {
              "type": "dataframe",
              "variable_name": "prediction_summary",
              "summary": "{\n  \"name\": \"prediction_summary\",\n  \"rows\": 2,\n  \"fields\": [\n    {\n      \"column\": \"job_bluecollar\",\n      \"properties\": {\n        \"dtype\": \"number\",\n        \"std\": 0,\n        \"min\": 0,\n        \"max\": 1,\n        \"num_unique_values\": 2,\n        \"samples\": [\n          1,\n          0\n        ],\n        \"semantic_type\": \"\",\n        \"description\": \"\"\n      }\n    },\n    {\n      \"column\": \"predicted_full\",\n      \"properties\": {\n        \"dtype\": \"number\",\n        \"std\": 0.07212489168102786,\n        \"min\": 0.067,\n        \"max\": 0.169,\n        \"num_unique_values\": 2,\n        \"samples\": [\n          0.169,\n          0.067\n        ],\n        \"semantic_type\": \"\",\n        \"description\": \"\"\n      }\n    },\n    {\n      \"column\": \"hadclaim\",\n      \"properties\": {\n        \"dtype\": \"number\",\n        \"std\": 0.09192388155425116,\n        \"min\": 0.234,\n        \"max\": 0.364,\n        \"num_unique_values\": 2,\n        \"samples\": [\n          0.364,\n          0.234\n        ],\n        \"semantic_type\": \"\",\n        \"description\": \"\"\n      }\n    }\n  ]\n}"
            }
          },
          "metadata": {},
          "execution_count": 21
        }
      ]
    },
    {
      "cell_type": "code",
      "source": [
        "# prompt: graph the kernel density of the predicted probabilities by job_bluecollar\n",
        "\n",
        "# Graph the kernel density of the predicted probabilities by job_bluecollar\n",
        "plt.figure(figsize=(10, 6))\n",
        "# Create the plot and use the common_norm=False option so that it gets densities by group\n",
        "sns.kdeplot(data=test, x='prob_full', hue='job_bluecollar', fill=True, common_norm=False)\n",
        "plt.title('Kernel Density of Predicted Probabilities by Job Bluecollar')\n",
        "plt.xlabel('Predicted Probability (Full Model)')\n",
        "plt.ylabel('Density')\n",
        "plt.show()"
      ],
      "metadata": {
        "colab": {
          "base_uri": "https://localhost:8080/",
          "height": 564
        },
        "id": "I92WkQxfVWhx",
        "outputId": "7727b73f-b02d-4b93-986e-5236ab193f06"
      },
      "execution_count": 22,
      "outputs": [
        {
          "output_type": "display_data",
          "data": {
            "text/plain": [
              "<Figure size 1000x600 with 1 Axes>"
            ],
            "image/png": "[encoded data removed]"
          },
          "metadata": {}
        }
      ]
    },
    {
      "cell_type": "markdown",
      "source": [
        "We can see in this graph and the table above it that the blue collar workers are getting more predictions in the higher range above 0.4, while the non-blue collar workers get predictions from the model that are more tightly centered in the range below 0.2. We see then that on a simple measure of the rate at which groups are predicted high risk that the model predictions are \"unfair\" across blue-collar and non-blue-collar workers."
      ],
      "metadata": {
        "id": "phGksk5HcY-x"
      }
    },
    {
      "cell_type": "markdown",
      "source": [
        "### Accuracy measures\n",
        "Now we want to know how accurate the model predictions were. We can consider a few different metrics. First, accuracy is just the share of correct predictions. Then we can also do the area under the receiver operating curve AUC. Finally, we can get the average predicsion score. This measure is useful when we have imbalanced data where the outcome is somewhat rare.\n",
        "\n",
        "The Average Precision Score is a summary metric for the Precision-Recall (PR) curve. It captures how well a classifier identifies positive cases across different probability thresholds.\n",
        "\n",
        "Precision = How many of the predicted positives are truly positive\n",
        "\n",
        "Recall = How many of the actual positives were correctly identified\n",
        "\n",
        "APS is the area under the Precision-Recall curve."
      ],
      "metadata": {
        "id": "zBzfntiWf4kx"
      }
    },
    {
      "cell_type": "code",
      "source": [
        "# prompt: Create a measure of the overall accuracy of the predictions where accuracy is defined as the share of correct predictions of hadclaim. Create a measure of the fairness of the predictions that is defined as the difference between the average share of positive predictions for job_bluecollar = 1 minus the average share of positive predictions for job_bluecollar = 0\n",
        "\n",
        "# Overall accuracy\n",
        "accuracy_full = (test['predicted_full'] == test['hadclaim']).mean()\n",
        "print(f\"Accuracy_full model: {accuracy_full:.3f}\")\n",
        "\n",
        "# Calculate AUC\n",
        "auc_full = roc_auc_score(test['hadclaim'], test['prob_full'])\n",
        "print(f\"AUC (Full model): {auc_full:.3f}\")\n",
        "\n",
        "# Calculate Average Precision Score\n",
        "aps_full = average_precision_score(test['hadclaim'], test['prob_full'])\n",
        "print(f\"Average Precision Score (Full model): {aps_full:.3f}\")"
      ],
      "metadata": {
        "colab": {
          "base_uri": "https://localhost:8080/"
        },
        "id": "aDjvrzqFXOlv",
        "outputId": "0949eecb-b294-47d0-937d-dccd1d9dc1e1"
      },
      "execution_count": 32,
      "outputs": [
        {
          "output_type": "stream",
          "name": "stdout",
          "text": [
            "Accuracy_full model: 0.770\n",
            "AUC (Full model): 0.779\n",
            "Average Precision Score (Full model): 0.554\n"
          ]
        }
      ]
    },
    {
      "cell_type": "markdown",
      "source": [
        "So we see an accuracy score of about 77%. That might sound good but note that with the actual claim rate of 26%, we'd get 74% accuracy even if we just predicted 0 for everyone. The average predicision scrore may be more diagnostic here."
      ],
      "metadata": {
        "id": "gLG23RkUgb0H"
      }
    },
    {
      "cell_type": "markdown",
      "source": [
        "### Fairness measure\n",
        "Here for fairness we will use the difference in the share predicted positive for blue collar vs. non-blue-collar workers. We take the negative of that differences so that an increase means a reduction in the excess predictions for blue-collar vs non-blue-collar workers."
      ],
      "metadata": {
        "id": "7zoMyPFujpvM"
      }
    },
    {
      "cell_type": "code",
      "source": [
        "# Fairness measure\n",
        "fairness_full = -(prediction_summary.loc[1, 'predicted_full'] - prediction_summary.loc[0, 'predicted_full'])\n",
        "print(f\"Fairness measure -(share of positive predictions for blue collar - share for non-blue collar): {fairness_full:.3f}\")"
      ],
      "metadata": {
        "colab": {
          "base_uri": "https://localhost:8080/"
        },
        "id": "xGMqh-b6jhQ7",
        "outputId": "9360e073-435f-49e0-fd68-93c75f3f2ff1"
      },
      "execution_count": 31,
      "outputs": [
        {
          "output_type": "stream",
          "name": "stdout",
          "text": [
            "Fairness measure -(share of positive predictions for blue collar - share for non-blue collar): -0.102\n"
          ]
        }
      ]
    },
    {
      "cell_type": "markdown",
      "source": [
        "## Compare to a stripped down model\n",
        "Now let's consider how different the model predictions would be if we used a very reduced model that only predicted based on past claim variables (in this case clm_freq5 and clm_amt5). After we do this step we can compare accuracy and fairness measures between models in a plot."
      ],
      "metadata": {
        "id": "uq79FoDSiM6G"
      }
    },
    {
      "cell_type": "markdown",
      "source": [
        "### Rerun the code reducting the variables\n",
        "Call this model \"onlyclaims\""
      ],
      "metadata": {
        "id": "oiH61x7Qhcjf"
      }
    },
    {
      "cell_type": "code",
      "source": [
        "#from sklearn.metrics import roc_auc_score\n",
        "#import statsmodels.api as sm\n",
        "#import matplotlib.pyplot as plt\n",
        "#import seaborn as sns\n",
        "#import numpy as np\n",
        "\n",
        "# Define the variables to keep\n",
        "keep_vars_features = ['clm_freq5', 'clm_amt5']\n",
        "\n",
        "# Select only those features from train and test sets\n",
        "X_onlyclaims = train[keep_vars_features]\n",
        "Xtest_onlyclaims = test[keep_vars_features]\n",
        "\n",
        "# Add a constant to the predictor variables\n",
        "X_onlyclaims = sm.add_constant(X_onlyclaims)\n",
        "Xtest_onlyclaims = sm.add_constant(Xtest_onlyclaims)\n",
        "\n",
        "# Create and fit the logistic regression model using only claim variables\n",
        "logit_onlyclaims = sm.Logit(y, X_onlyclaims).fit()\n",
        "\n",
        "# Print the summary of the logit_onlyclaims model\n",
        "print(logit_onlyclaims.summary())\n",
        "\n",
        "# Get the predicted probabilities for the test set using logit_onlyclaims\n",
        "test['prob_onlyclaims'] = logit_onlyclaims.predict(Xtest_onlyclaims)\n",
        "\n",
        "# Graph the kernel density of the predicted probabilities by job_bluecollar\n",
        "plt.figure(figsize=(10, 6))\n",
        "sns.kdeplot(data=test, x='prob_onlyclaims', hue='job_bluecollar', fill=True, common_norm=False)\n",
        "plt.title('Kernel Density of Predicted Probabilities by Job Bluecollar (Only Claim Variables)')\n",
        "plt.xlabel('Predicted Probability (Only Claims Model)')\n",
        "plt.ylabel('Density')\n",
        "plt.show()\n",
        "\n",
        "# Create predicted outcomes based on a threshold (e.g., 0.6)\n",
        "test['predicted_onlyclaims'] = np.where(test['prob_onlyclaims'] > 0.6, 1, 0)\n",
        "\n",
        "# Create the summary table of predictions by job_bluecollar\n",
        "prediction_summary_onlyclaims = test.groupby('job_bluecollar')[['predicted_onlyclaims', 'hadclaim']].mean()\n",
        "print(prediction_summary_onlyclaims)\n",
        "\n",
        "# Calculate overall accuracy for logit_onlyclaims\n",
        "accuracy_onlyclaims = (test['predicted_onlyclaims'] == test['hadclaim']).mean()\n",
        "print(f\"Accuracy_onlyclaims model: {accuracy_onlyclaims:.3f}\")\n",
        "\n",
        "# Calculate AUC\n",
        "auc_onlyclaims = roc_auc_score(test['hadclaim'], test['prob_onlyclaims'])\n",
        "print(f\"AUC (Only Claim Variables model): {auc_onlyclaims:.3f}\")\n",
        "\n",
        "# Calculate Average Precision Score\n",
        "aps_onlyclaims = average_precision_score(test['hadclaim'], test['prob_onlyclaims'])\n",
        "print(f\"Average Precision Score (Full model): {aps_full:.3f}\")\n",
        "\n",
        "# Calculate fairness measure for logit_onlyclaims\n",
        "fairness_onlyclaims = -(prediction_summary_onlyclaims.loc[1, 'predicted_onlyclaims'] - prediction_summary_onlyclaims.loc[0, 'predicted_onlyclaims'])\n",
        "print(f\"Fairness measure (Only Claim Variables model): {fairness_onlyclaims:.3f}\")\n"
      ],
      "metadata": {
        "colab": {
          "base_uri": "https://localhost:8080/",
          "height": 1000
        },
        "id": "b8xw6h8EiK3L",
        "outputId": "bd78b708-0e50-479e-8d85-0ada00f39916"
      },
      "execution_count": 28,
      "outputs": [
        {
          "output_type": "stream",
          "name": "stdout",
          "text": [
            "Optimization terminated successfully.\n",
            "         Current function value: 0.553811\n",
            "         Iterations 5\n",
            "                           Logit Regression Results                           \n",
            "==============================================================================\n",
            "Dep. Variable:               hadclaim   No. Observations:                 7242\n",
            "Model:                          Logit   Df Residuals:                     7239\n",
            "Method:                           MLE   Df Model:                            2\n",
            "Date:                Sat, 24 May 2025   Pseudo R-squ.:                 0.04497\n",
            "Time:                        09:02:22   Log-Likelihood:                -4010.7\n",
            "converged:                       True   LL-Null:                       -4199.5\n",
            "Covariance Type:            nonrobust   LLR p-value:                 9.664e-83\n",
            "==============================================================================\n",
            "                 coef    std err          z      P>|z|      [0.025      0.975]\n",
            "------------------------------------------------------------------------------\n",
            "const         -1.4173      0.036    -39.512      0.000      -1.488      -1.347\n",
            "clm_freq5      0.3814      0.025     15.353      0.000       0.333       0.430\n",
            "clm_amt5    1.168e-05   3.15e-06      3.704      0.000     5.5e-06    1.79e-05\n",
            "==============================================================================\n"
          ]
        },
        {
          "output_type": "display_data",
          "data": {
            "text/plain": [
              "<Figure size 1000x600 with 1 Axes>"
            ],
            "image/png": "[encoded data removed]"
          },
          "metadata": {}
        },
        {
          "output_type": "stream",
          "name": "stdout",
          "text": [
            "                predicted_onlyclaims  hadclaim\n",
            "job_bluecollar                                \n",
            "0                           0.006342  0.234144\n",
            "1                           0.003831  0.363985\n",
            "Accuracy_onlyclaims model: 0.738\n",
            "AUC (Only Claim Variables model): 0.629\n",
            "Average Precision Score (Full model): 0.554\n",
            "Fairness measure (Only Claim Variables model): 0.003\n"
          ]
        }
      ]
    },
    {
      "cell_type": "markdown",
      "source": [
        "We see in this very stripped down model that we end up generating almost no predicted values up over 60%. As a consequence, we predict almost no high-risk cases. This dramatically shrinks our measure of unfairness (of course). But it also reduces measures of model accuracy."
      ],
      "metadata": {
        "id": "F67Ux6Nmh99V"
      }
    },
    {
      "cell_type": "markdown",
      "source": [
        "### Create a visualization of accuracy vs fairness\n",
        "For this purpose I am going to create a graph that shows the AUC vs. the Fairness metric (difference in positive predicted rates). We could easily adapt this code to use Average Precision Score or accuracy instead -- I encourage you to consider that."
      ],
      "metadata": {
        "id": "jGNfDlCFiVd7"
      }
    },
    {
      "cell_type": "code",
      "source": [
        "# prompt: Now create a plot that shows the accuracy measure on the y-axis and the fairness measure on the x-axis for each of the models full nocar and noage.\n",
        "\n",
        "# Create a DataFrame to hold the results for plotting\n",
        "results = pd.DataFrame({\n",
        "    'Model': ['Full', 'Only Claims'],\n",
        "    'Fairness': [fairness_full, fairness_onlyclaims],\n",
        "    'AUC': [auc_full, auc_onlyclaims]\n",
        "})\n",
        "\n",
        "plt.figure(figsize=(8, 6))\n",
        "sns.scatterplot(data=results, x='Fairness', y='AUC', hue='Model', s=100)\n",
        "\n",
        "# Set y-axis range from .5 to 1\n",
        "plt.ylim(.5, 1)\n",
        "\n",
        "plt.title('AUC vs. Fairness for Different Models')\n",
        "plt.xlabel('Fairness (Difference in Predicted Positive Rate between Blue Collar and Non-Blue Collar)')\n",
        "plt.ylabel('AUC')\n",
        "plt.grid(True)\n",
        "plt.show()"
      ],
      "metadata": {
        "colab": {
          "base_uri": "https://localhost:8080/",
          "height": 564
        },
        "id": "zJ_AJPORfEaB",
        "outputId": "4cfd91f8-b13e-47a8-8e16-9fccbf71661d"
      },
      "execution_count": 29,
      "outputs": [
        {
          "output_type": "display_data",
          "data": {
            "text/plain": [
              "<Figure size 800x600 with 1 Axes>"
            ],
            "image/png": "[encoded data removed]"
          },
          "metadata": {}
        }
      ]
    },
    {
      "cell_type": "markdown",
      "source": [
        "So we can see here that going from the Full model to the Only Claims model removes concerns about fairness in the predictions (as measured by differentials in the positive predicted rate). But it also dramatically decreases the predictive power (as measured by AUC)."
      ],
      "metadata": {
        "id": "lTimsw3zjBVl"
      }
    },
    {
      "cell_type": "markdown",
      "source": [
        "## Now it is your turn!\n",
        "The task for this homework now that you have this start is to adapt the code to do some more models. I encourage you to use the code above where I reduced to the \"Only Claims\" model and adapt to name some other model candidates of your choosing. You should thoughtfully group together sets of predictors that have some meaning and interpretation or exclude certain predictors that you think are worth testing.\n",
        "\n",
        "There is no maximum number of models you need to add, but the **minimum to add is 3 additional models**."
      ],
      "metadata": {
        "id": "U_Vk1z8ukCvC"
      }
    }
  ]
}